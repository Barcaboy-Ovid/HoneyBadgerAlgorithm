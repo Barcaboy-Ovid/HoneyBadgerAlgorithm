{
 "cells": [
  {
   "cell_type": "code",
   "execution_count": 1,
   "id": "0dee01f3",
   "metadata": {},
   "outputs": [],
   "source": [
    "#using Pkg\n",
    "#Pkg.add(\"Metaheuristics\")\n"
   ]
  },
  {
   "cell_type": "code",
   "execution_count": 38,
   "id": "03460ed7",
   "metadata": {},
   "outputs": [],
   "source": [
    "using Metaheuristics"
   ]
  },
  {
   "cell_type": "markdown",
   "id": "c6a4aeee",
   "metadata": {},
   "source": [
    "## Unimodal functions"
   ]
  },
  {
   "cell_type": "code",
   "execution_count": 79,
   "id": "00f50fd3",
   "metadata": {},
   "outputs": [
    {
     "data": {
      "text/plain": [
       "sphere (generic function with 1 method)"
      ]
     },
     "execution_count": 79,
     "metadata": {},
     "output_type": "execute_result"
    }
   ],
   "source": [
    "# De Jong's (sphere) function\n",
    "\n",
    "sphere(x)=sum(x.^2)"
   ]
  },
  {
   "cell_type": "code",
   "execution_count": 80,
   "id": "9a64c905",
   "metadata": {},
   "outputs": [
    {
     "data": {
      "text/plain": [
       "schwefel_2_22 (generic function with 1 method)"
      ]
     },
     "execution_count": 80,
     "metadata": {},
     "output_type": "execute_result"
    }
   ],
   "source": [
    "# Schwefel 2.22 function\n",
    "\n",
    "function schwefel_2_22(x)\n",
    "    sum = 0\n",
    "    prod = 1\n",
    "    n = length(x)\n",
    "    for i in 1:n\n",
    "        sum += abs(x[i])\n",
    "        prod *= abs(x[i])\n",
    "    end\n",
    "    val = sum+ prod\n",
    "    return val\n",
    "end"
   ]
  },
  {
   "cell_type": "markdown",
   "id": "5c48b57d",
   "metadata": {},
   "source": [
    "## Multimodal functions"
   ]
  },
  {
   "cell_type": "code",
   "execution_count": 81,
   "id": "6ccb6a9d",
   "metadata": {},
   "outputs": [
    {
     "data": {
      "text/plain": [
       "ackley (generic function with 1 method)"
      ]
     },
     "execution_count": 81,
     "metadata": {},
     "output_type": "execute_result"
    }
   ],
   "source": [
    "# ackley function\n",
    "\n",
    "function ackley(x)\n",
    "    # x = [x1, x2, ..., xd]\n",
    "    # a = default value 20\n",
    "    # b = default value 0.2\n",
    "    # c = default value 2*pi\n",
    "    a = 20\n",
    "    b = 0.2\n",
    "    c = 2*π\n",
    "    n = length(x)\n",
    "    sum1 = 0\n",
    "    sum2 = 0\n",
    "    for i in 1:n\n",
    "        sum1 += x[i]^2\n",
    "        sum2 += cos(c*x[i])\n",
    "    end\n",
    "    \n",
    "    term1 = -a * exp(-b*sqrt(sum1/n))\n",
    "    term2 = -exp(sum2/n)\n",
    "    y = term1 + term2 + a + exp(1)\n",
    "    return y\n",
    "end"
   ]
  },
  {
   "cell_type": "code",
   "execution_count": 82,
   "id": "7486cad1",
   "metadata": {},
   "outputs": [
    {
     "data": {
      "text/plain": [
       "rastrigin (generic function with 1 method)"
      ]
     },
     "execution_count": 82,
     "metadata": {},
     "output_type": "execute_result"
    }
   ],
   "source": [
    "# rastrigin function\n",
    "\n",
    "function rastrigin(x)\n",
    "    val = -10length(x)\n",
    "    n = length(x)\n",
    "    for i in 1:n\n",
    "        val += -x[i]^2+10cos(π*x[i])\n",
    "    end\n",
    "    val =-val\n",
    "    return val\n",
    "end"
   ]
  },
  {
   "cell_type": "markdown",
   "id": "2a611901",
   "metadata": {},
   "source": [
    "## Fixed Dimensional Functions"
   ]
  },
  {
   "cell_type": "code",
   "execution_count": 83,
   "id": "b901858b",
   "metadata": {
    "scrolled": true
   },
   "outputs": [
    {
     "data": {
      "text/plain": [
       "matyas2 (generic function with 1 method)"
      ]
     },
     "execution_count": 83,
     "metadata": {},
     "output_type": "execute_result"
    }
   ],
   "source": [
    "# matyas function\n",
    "\n",
    "function matyas2(x)\n",
    "    x1 = x[1]\n",
    "    x2 = x[2]\n",
    "    val = (0.26 * ((x1 ^ 2) + (x2 ^ 2) ))  - (0.48 * x1 * x2)\n",
    "    return val\n",
    "end"
   ]
  },
  {
   "cell_type": "code",
   "execution_count": 84,
   "id": "7a7f0bdd",
   "metadata": {},
   "outputs": [
    {
     "data": {
      "text/plain": [
       "zirilli2 (generic function with 1 method)"
      ]
     },
     "execution_count": 84,
     "metadata": {},
     "output_type": "execute_result"
    }
   ],
   "source": [
    "# zirilli function\n",
    "\n",
    "function zirilli2(x)\n",
    "    x1 = x[1]\n",
    "    x2 = x[2]\n",
    "    val = (0.5 * (x1 ^ 2)) + (0.5 * (1 - cos(2*x1)) ) + (x2 ^ 2)\n",
    "    return val\n",
    "end"
   ]
  },
  {
   "cell_type": "markdown",
   "id": "f067be60",
   "metadata": {},
   "source": [
    "#  PARTICLE SWARM OPTIMIZATION"
   ]
  },
  {
   "cell_type": "markdown",
   "id": "71023eba",
   "metadata": {},
   "source": [
    "### For PSO -> N = 50; c1 and c2 are 1.5 and ω = 0.7"
   ]
  },
  {
   "cell_type": "markdown",
   "id": "725e2979",
   "metadata": {},
   "source": [
    " #### Optimization Results for Unimodal Functions"
   ]
  },
  {
   "cell_type": "code",
   "execution_count": 89,
   "id": "0dc915aa",
   "metadata": {
    "scrolled": true
   },
   "outputs": [
    {
     "data": {
      "text/html": [
       "<pre>\n",
       "+=========== RESULT ==========+\n",
       "  iteration: 1816\n",
       "    minimum: 2890.71\n",
       "  minimizer: [-13.378210424746285, -1.9699747152896505, 14.617149185468863, -4.885417943983434, 7.233493702223905, 6.603612270882241, -19.66598608179179, -10.381079281505885, 4.991943773429903, 1.1858922181183134  …  -5.077324587751675, 13.784377494909128, -8.810017731209609, 9.894536469408141, -1.5321917477269553, 0.7172280745074753, 16.633374544546225, -12.591004365807677, -7.9092416559851415, 13.495154581592175]\n",
       "    f calls: 90800\n",
       " total time: 0.3690 s\n",
       "stop reason: Small difference of objective function values.\n",
       "+============================+\n",
       "</pre>\n"
      ],
      "text/plain": [
       "+=========== RESULT ==========+\n",
       "  iteration: 1816\n",
       "    minimum: 2890.71\n",
       "  minimizer: [-13.378210424746285, -1.9699747152896505, 14.617149185468863, -4.885417943983434, 7.233493702223905, 6.603612270882241, -19.66598608179179, -10.381079281505885, 4.991943773429903, 1.1858922181183134  …  -5.077324587751675, 13.784377494909128, -8.810017731209609, 9.894536469408141, -1.5321917477269553, 0.7172280745074753, 16.633374544546225, -12.591004365807677, -7.9092416559851415, 13.495154581592175]\n",
       "    f calls: 90800\n",
       " total time: 0.3690 s\n",
       "stop reason: Small difference of objective function values.\n",
       "+============================+\n"
      ]
     },
     "execution_count": 89,
     "metadata": {},
     "output_type": "execute_result"
    }
   ],
   "source": [
    "# Optimize de jong's sphere function = 30 Dimension; bounds -100 to 100\n",
    "a = repeat([-100.0],30)\n",
    "b = repeat([100.0],30)\n",
    "\n",
    "optimize(sphere,[a b], PSO(N = 50, C1 = 1.5, C2 = 1.5, ω = 0.7))"
   ]
  },
  {
   "cell_type": "code",
   "execution_count": 90,
   "id": "aac45998",
   "metadata": {},
   "outputs": [
    {
     "data": {
      "text/html": [
       "<pre>\n",
       "+=========== RESULT ==========+\n",
       "  iteration: 785\n",
       "    minimum: 499.839\n",
       "  minimizer: [1.6515554382161944e-35, -31.49676128901461, -43.86319958466731, 27.351836696822886, -10.254613379785674, -5.859291917739085, -3.0665333489803195, -40.224433573437565, 14.638605359944775, -20.4778952259109  …  -3.568567899570143, 1.1729920194898178, 3.972835269839902, -16.053169390234224, 0.14014808248709187, -18.32050479620566, -20.52938107681352, 16.108540844525614, -0.06965137987877126, 15.021921900830534]\n",
       "    f calls: 39250\n",
       " total time: 0.1510 s\n",
       "stop reason: Small difference of objective function values.\n",
       "+============================+\n",
       "</pre>\n"
      ],
      "text/plain": [
       "+=========== RESULT ==========+\n",
       "  iteration: 785\n",
       "    minimum: 499.839\n",
       "  minimizer: [1.6515554382161944e-35, -31.49676128901461, -43.86319958466731, 27.351836696822886, -10.254613379785674, -5.859291917739085, -3.0665333489803195, -40.224433573437565, 14.638605359944775, -20.4778952259109  …  -3.568567899570143, 1.1729920194898178, 3.972835269839902, -16.053169390234224, 0.14014808248709187, -18.32050479620566, -20.52938107681352, 16.108540844525614, -0.06965137987877126, 15.021921900830534]\n",
       "    f calls: 39250\n",
       " total time: 0.1510 s\n",
       "stop reason: Small difference of objective function values.\n",
       "+============================+\n"
      ]
     },
     "execution_count": 90,
     "metadata": {},
     "output_type": "execute_result"
    }
   ],
   "source": [
    "# Optimize schewefel 2.22 function = 30 Dimensions; bounds -100 to 100\n",
    "a = repeat([-100.0],30)\n",
    "b = repeat([100.0],30)\n",
    "\n",
    "optimize(schwefel_2_22, [a b], PSO(N = 50, C1 = 1.5, C2 = 1.5, ω = 0.7)) "
   ]
  },
  {
   "cell_type": "markdown",
   "id": "711cf8c8",
   "metadata": {},
   "source": [
    " #### Optimization Results for Multimodal Functions"
   ]
  },
  {
   "cell_type": "code",
   "execution_count": 54,
   "id": "145ae6c3",
   "metadata": {},
   "outputs": [
    {
     "data": {
      "text/html": [
       "<pre>\n",
       "+=========== RESULT ==========+\n",
       "  iteration: 835\n",
       "    minimum: 10.3039\n",
       "  minimizer: [-0.04934628049924094, 1.0421772571791628, 2.7713280260958237, 3.9994777211440233, 1.9851070332316039, 0.9758631296687619, -3.853136521650671, 2.1173250084115387, -1.0128463011794486, -0.004708982756120432  …  5.431285862836381, 1.9554566025675968, -0.05035170352047146, -4.068691381402194, 1.1193041950665212, 0.9213790469556029, -2.9652562692807503, -4.055546958030973, -1.9346699873643027, -0.7599743483026397]\n",
       "    f calls: 41750\n",
       " total time: 0.1690 s\n",
       "stop reason: Small difference of objective function values.\n",
       "+============================+\n",
       "</pre>\n"
      ],
      "text/plain": [
       "+=========== RESULT ==========+\n",
       "  iteration: 835\n",
       "    minimum: 10.3039\n",
       "  minimizer: [-0.04934628049924094, 1.0421772571791628, 2.7713280260958237, 3.9994777211440233, 1.9851070332316039, 0.9758631296687619, -3.853136521650671, 2.1173250084115387, -1.0128463011794486, -0.004708982756120432  …  5.431285862836381, 1.9554566025675968, -0.05035170352047146, -4.068691381402194, 1.1193041950665212, 0.9213790469556029, -2.9652562692807503, -4.055546958030973, -1.9346699873643027, -0.7599743483026397]\n",
       "    f calls: 41750\n",
       " total time: 0.1690 s\n",
       "stop reason: Small difference of objective function values.\n",
       "+============================+\n"
      ]
     },
     "execution_count": 54,
     "metadata": {},
     "output_type": "execute_result"
    }
   ],
   "source": [
    "# Optimize ackley fucntion = 30 Dimensions; bounds -32 to 32\n",
    "a = repeat([-32.0],30)\n",
    "b = repeat([32.0],30)\n",
    "\n",
    "optimize(ackley, [a b], PSO(N = 50, C1 = 1.5, C2 = 1.5, ω = 0.7))"
   ]
  },
  {
   "cell_type": "code",
   "execution_count": 55,
   "id": "2c376f87",
   "metadata": {
    "scrolled": true
   },
   "outputs": [
    {
     "data": {
      "text/html": [
       "<pre>\n",
       "+=========== RESULT ==========+\n",
       "  iteration: 915\n",
       "    minimum: 142.073\n",
       "  minimizer: [0.18243222117795954, -0.19194019128095757, -4.078816468483618, -0.03534626763630854, -1.8010445954305245, -1.9689836145509039, -1.9993730674250974, -1.7568697594865963, 0.02250941502059772, 2.122697454342279  …  1.6264840628281445, 1.8030585152765195, -1.9009773520711986, -0.13210909759965025, -0.08144909435272758, 2.0090794575610813, -0.06880040726409697, -1.9303356454150995, -2.065799649162286, -2.1104499935421415]\n",
       "    f calls: 45750\n",
       " total time: 0.1820 s\n",
       "stop reason: Small difference of objective function values.\n",
       "+============================+\n",
       "</pre>\n"
      ],
      "text/plain": [
       "+=========== RESULT ==========+\n",
       "  iteration: 915\n",
       "    minimum: 142.073\n",
       "  minimizer: [0.18243222117795954, -0.19194019128095757, -4.078816468483618, -0.03534626763630854, -1.8010445954305245, -1.9689836145509039, -1.9993730674250974, -1.7568697594865963, 0.02250941502059772, 2.122697454342279  …  1.6264840628281445, 1.8030585152765195, -1.9009773520711986, -0.13210909759965025, -0.08144909435272758, 2.0090794575610813, -0.06880040726409697, -1.9303356454150995, -2.065799649162286, -2.1104499935421415]\n",
       "    f calls: 45750\n",
       " total time: 0.1820 s\n",
       "stop reason: Small difference of objective function values.\n",
       "+============================+\n"
      ]
     },
     "execution_count": 55,
     "metadata": {},
     "output_type": "execute_result"
    }
   ],
   "source": [
    "# Optimize rastrigin function = 30 Dimensions; bounds -5.12 to 5.12\n",
    "a = repeat([-5.12],30)\n",
    "b = repeat([5.12],30)\n",
    "\n",
    "optimize(rastrigin, [a b], PSO(N = 50, C1=1.5, C2=1.5, ω = 0.7))"
   ]
  },
  {
   "cell_type": "markdown",
   "id": "32ed8638",
   "metadata": {},
   "source": [
    "#### Optimization Results for Fixed Dimensional Functions"
   ]
  },
  {
   "cell_type": "code",
   "execution_count": 56,
   "id": "47e0249d",
   "metadata": {},
   "outputs": [
    {
     "data": {
      "text/html": [
       "<pre>\n",
       "+=========== RESULT ==========+\n",
       "  iteration: 400\n",
       "    minimum: 1.32652e-49\n",
       "  minimizer: [-1.3742054410727303e-24, -1.7489605874342315e-24]\n",
       "    f calls: 20000\n",
       " total time: 0.0680 s\n",
       "stop reason: Maximum objective function calls exceeded.\n",
       "+============================+\n",
       "</pre>\n"
      ],
      "text/plain": [
       "+=========== RESULT ==========+\n",
       "  iteration: 400\n",
       "    minimum: 1.32652e-49\n",
       "  minimizer: [-1.3742054410727303e-24, -1.7489605874342315e-24]\n",
       "    f calls: 20000\n",
       " total time: 0.0680 s\n",
       "stop reason: Maximum objective function calls exceeded.\n",
       "+============================+\n"
      ]
     },
     "execution_count": 56,
     "metadata": {},
     "output_type": "execute_result"
    }
   ],
   "source": [
    "# Optimize matyas2 function = 2 Dimensions; bounds -10 to 10\n",
    "\n",
    "optimize(matyas2, [-10 -10 ; 10 10.0], PSO(N = 50, C1=1.5, C2=1.5, ω = 0.7))"
   ]
  },
  {
   "cell_type": "code",
   "execution_count": 57,
   "id": "3fa54e2a",
   "metadata": {
    "scrolled": true
   },
   "outputs": [
    {
     "data": {
      "text/html": [
       "<pre>\n",
       "+=========== RESULT ==========+\n",
       "  iteration: 400\n",
       "    minimum: 1.31794e-46\n",
       "  minimizer: [2.5582355248242147e-24, -1.133672460149084e-23]\n",
       "    f calls: 20000\n",
       " total time: 0.0710 s\n",
       "stop reason: Maximum objective function calls exceeded.\n",
       "+============================+\n",
       "</pre>\n"
      ],
      "text/plain": [
       "+=========== RESULT ==========+\n",
       "  iteration: 400\n",
       "    minimum: 1.31794e-46\n",
       "  minimizer: [2.5582355248242147e-24, -1.133672460149084e-23]\n",
       "    f calls: 20000\n",
       " total time: 0.0710 s\n",
       "stop reason: Maximum objective function calls exceeded.\n",
       "+============================+\n"
      ]
     },
     "execution_count": 57,
     "metadata": {},
     "output_type": "execute_result"
    }
   ],
   "source": [
    "# Optimize zirilli2 function = 2 Dimensions; bounds -10 to 10\n",
    "\n",
    "optimize(zirilli2, [-500 -500 ; 500 500.0], PSO(N = 50, C1=1.5, C2=1.5, ω = 0.7))"
   ]
  },
  {
   "cell_type": "markdown",
   "id": "d81ff89f",
   "metadata": {},
   "source": [
    "#  SIMULATED ANNEALING OPTIMIZATION"
   ]
  },
  {
   "cell_type": "markdown",
   "id": "e1812434",
   "metadata": {},
   "source": [
    "### For SA -> N = 50"
   ]
  },
  {
   "cell_type": "markdown",
   "id": "6ae4eb6d",
   "metadata": {},
   "source": [
    " #### Optimization Results for Unimodal Functions"
   ]
  },
  {
   "cell_type": "code",
   "execution_count": 93,
   "id": "ab227ef7",
   "metadata": {
    "scrolled": true
   },
   "outputs": [
    {
     "data": {
      "text/html": [
       "<pre>\n",
       "+=========== RESULT ==========+\n",
       "  iteration: 6000\n",
       "    minimum: 3.35593e-17\n",
       "  minimizer: [2.393658129063661e-10, 1.6863841411945698e-11, 1.2514203284734389e-11, -6.034473190628849e-11, -1.5592159815797302e-11, 8.706084751978079e-11, 3.3337401769273615e-10, -4.2642714344685073e-10, -9.644720055542671e-11, 1.4469810535116468e-10  …  -6.815782426374539e-10, 3.3172241335057117e-10, -1.2760149561247579e-9, -1.2561389309189303e-10, 4.051146463437519e-12, -2.9817189923338157e-10, 1.4159024900084697e-9, 5.947823935761179e-10, -6.38122698434762e-10, -2.682314616061357e-11]\n",
       "    f calls: 299902\n",
       " total time: 0.6190 s\n",
       "stop reason: Maximum number of iterations exceeded.\n",
       "+============================+\n",
       "</pre>\n"
      ],
      "text/plain": [
       "+=========== RESULT ==========+\n",
       "  iteration: 6000\n",
       "    minimum: 3.35593e-17\n",
       "  minimizer: [2.393658129063661e-10, 1.6863841411945698e-11, 1.2514203284734389e-11, -6.034473190628849e-11, -1.5592159815797302e-11, 8.706084751978079e-11, 3.3337401769273615e-10, -4.2642714344685073e-10, -9.644720055542671e-11, 1.4469810535116468e-10  …  -6.815782426374539e-10, 3.3172241335057117e-10, -1.2760149561247579e-9, -1.2561389309189303e-10, 4.051146463437519e-12, -2.9817189923338157e-10, 1.4159024900084697e-9, 5.947823935761179e-10, -6.38122698434762e-10, -2.682314616061357e-11]\n",
       "    f calls: 299902\n",
       " total time: 0.6190 s\n",
       "stop reason: Maximum number of iterations exceeded.\n",
       "+============================+\n"
      ]
     },
     "execution_count": 93,
     "metadata": {},
     "output_type": "execute_result"
    }
   ],
   "source": [
    "# Optimize de jong's sphere fucntion = 30 Dimension; bounds -100 to 100\n",
    "a = repeat([-100.0],30)\n",
    "b = repeat([100.0],30)\n",
    "\n",
    "optimize(sphere, [a b], SA(N = 50, x_initial = []))"
   ]
  },
  {
   "cell_type": "code",
   "execution_count": 95,
   "id": "749290f9",
   "metadata": {},
   "outputs": [
    {
     "data": {
      "text/html": [
       "<pre>\n",
       "+=========== RESULT ==========+\n",
       "  iteration: 6000\n",
       "    minimum: 2.87987e-09\n",
       "  minimizer: [-7.520171451896367e-12, 2.037455453679097e-12, 1.8887557775735177e-12, -5.498823534000305e-10, 4.7175533552718737e-11, -6.762442550536911e-11, -1.0142644477824714e-10, 4.5913611513814356e-11, 4.642894368133895e-11, 4.578326294387345e-11  …  -3.7585500948267694e-13, -8.943658306093549e-11, -1.346822143206933e-10, -7.143321398027951e-11, 2.7533908070321272e-11, -2.943901162399546e-11, 1.6950231611941637e-10, 1.1578606344610842e-10, 5.4653652692491674e-11, -2.2521666770095608e-11]\n",
       "    f calls: 299902\n",
       " total time: 0.6170 s\n",
       "stop reason: Maximum number of iterations exceeded.\n",
       "+============================+\n",
       "</pre>\n"
      ],
      "text/plain": [
       "+=========== RESULT ==========+\n",
       "  iteration: 6000\n",
       "    minimum: 2.87987e-09\n",
       "  minimizer: [-7.520171451896367e-12, 2.037455453679097e-12, 1.8887557775735177e-12, -5.498823534000305e-10, 4.7175533552718737e-11, -6.762442550536911e-11, -1.0142644477824714e-10, 4.5913611513814356e-11, 4.642894368133895e-11, 4.578326294387345e-11  …  -3.7585500948267694e-13, -8.943658306093549e-11, -1.346822143206933e-10, -7.143321398027951e-11, 2.7533908070321272e-11, -2.943901162399546e-11, 1.6950231611941637e-10, 1.1578606344610842e-10, 5.4653652692491674e-11, -2.2521666770095608e-11]\n",
       "    f calls: 299902\n",
       " total time: 0.6170 s\n",
       "stop reason: Maximum number of iterations exceeded.\n",
       "+============================+\n"
      ]
     },
     "execution_count": 95,
     "metadata": {},
     "output_type": "execute_result"
    }
   ],
   "source": [
    "# Optimize schewefel 2.22 fucntion = 30 Dimension; bounds -100 to 100\n",
    "a = repeat([-100.0],30)\n",
    "b = repeat([100.0],30)\n",
    "\n",
    "optimize(schwefel_2_22, [a b], SA(N = 50, x_initial = []))"
   ]
  },
  {
   "cell_type": "markdown",
   "id": "594edc04",
   "metadata": {},
   "source": [
    " #### Optimization Results for Multimodal Functions"
   ]
  },
  {
   "cell_type": "code",
   "execution_count": 60,
   "id": "376046f7",
   "metadata": {},
   "outputs": [
    {
     "data": {
      "text/html": [
       "<pre>\n",
       "+=========== RESULT ==========+\n",
       "  iteration: 6000\n",
       "    minimum: 4.68774e-10\n",
       "  minimizer: [-2.941867982588978e-11, -7.828455473311087e-11, -6.91862246336263e-11, 1.61735855386662e-10, 1.36640346976138e-10, 1.4084844920063942e-10, 4.418105466622034e-11, 3.805730665483291e-12, 6.39152637361164e-11, 2.7323468180247196e-11  …  4.185955311880158e-12, 6.290606021513852e-11, 1.3253941074471055e-10, -3.054283023969513e-11, -4.31188093227494e-12, 1.3489709438608865e-11, 9.704043151105778e-11, 4.642030061592649e-12, 2.581666664985196e-10, -7.946651675641816e-11]\n",
       "    f calls: 299902\n",
       " total time: 0.6880 s\n",
       "stop reason: Maximum number of iterations exceeded.\n",
       "+============================+\n",
       "</pre>\n"
      ],
      "text/plain": [
       "+=========== RESULT ==========+\n",
       "  iteration: 6000\n",
       "    minimum: 4.68774e-10\n",
       "  minimizer: [-2.941867982588978e-11, -7.828455473311087e-11, -6.91862246336263e-11, 1.61735855386662e-10, 1.36640346976138e-10, 1.4084844920063942e-10, 4.418105466622034e-11, 3.805730665483291e-12, 6.39152637361164e-11, 2.7323468180247196e-11  …  4.185955311880158e-12, 6.290606021513852e-11, 1.3253941074471055e-10, -3.054283023969513e-11, -4.31188093227494e-12, 1.3489709438608865e-11, 9.704043151105778e-11, 4.642030061592649e-12, 2.581666664985196e-10, -7.946651675641816e-11]\n",
       "    f calls: 299902\n",
       " total time: 0.6880 s\n",
       "stop reason: Maximum number of iterations exceeded.\n",
       "+============================+\n"
      ]
     },
     "execution_count": 60,
     "metadata": {},
     "output_type": "execute_result"
    }
   ],
   "source": [
    "# Optimize ackley fucntion - 30 Dimensions; bounds -32 to 32\n",
    "a = repeat([-32.0],30)\n",
    "b = repeat([32.0],30)\n",
    "\n",
    "optimize(ackley,[a b], SA(N = 50, x_initial = []))"
   ]
  },
  {
   "cell_type": "code",
   "execution_count": 64,
   "id": "dfd056cb",
   "metadata": {
    "scrolled": true
   },
   "outputs": [
    {
     "data": {
      "text/html": [
       "<pre>\n",
       "+=========== RESULT ==========+\n",
       "  iteration: 6000\n",
       "    minimum: -0\n",
       "  minimizer: [-1.3367021921879589e-8, 9.830084170200626e-9, -5.944457921962333e-9, -1.4928061047201536e-8, -8.76228810714837e-9, 6.647860029394723e-9, -1.3240523970962807e-8, 8.349711765537313e-10, 2.739361528119279e-9, 4.702979459984924e-9  …  1.1723195706760276e-8, 9.009934944173754e-9, 1.2285959152034162e-8, -5.082479772831228e-9, -5.830684031110106e-9, 2.4913132526269374e-9, 2.5595314127485425e-9, -3.4088206827638933e-9, 2.2963272722826646e-9, 3.091424527040594e-9]\n",
       "    f calls: 299902\n",
       " total time: 0.6550 s\n",
       "stop reason: Maximum number of iterations exceeded.\n",
       "+============================+\n",
       "</pre>\n"
      ],
      "text/plain": [
       "+=========== RESULT ==========+\n",
       "  iteration: 6000\n",
       "    minimum: -0\n",
       "  minimizer: [-1.3367021921879589e-8, 9.830084170200626e-9, -5.944457921962333e-9, -1.4928061047201536e-8, -8.76228810714837e-9, 6.647860029394723e-9, -1.3240523970962807e-8, 8.349711765537313e-10, 2.739361528119279e-9, 4.702979459984924e-9  …  1.1723195706760276e-8, 9.009934944173754e-9, 1.2285959152034162e-8, -5.082479772831228e-9, -5.830684031110106e-9, 2.4913132526269374e-9, 2.5595314127485425e-9, -3.4088206827638933e-9, 2.2963272722826646e-9, 3.091424527040594e-9]\n",
       "    f calls: 299902\n",
       " total time: 0.6550 s\n",
       "stop reason: Maximum number of iterations exceeded.\n",
       "+============================+\n"
      ]
     },
     "execution_count": 64,
     "metadata": {},
     "output_type": "execute_result"
    }
   ],
   "source": [
    "# Optimize rastrigin function = 30 Dimensions; bounds -5.12 to 5.12\n",
    "a = repeat([-5.12],30)\n",
    "b = repeat([5.12],30)\n",
    "\n",
    "optimize(rastrigin,[a b], SA(N = 50, x_initial = []))"
   ]
  },
  {
   "cell_type": "markdown",
   "id": "0af23caa",
   "metadata": {},
   "source": [
    "#### Optimization Results for Fixed Dimensional Functions"
   ]
  },
  {
   "cell_type": "code",
   "execution_count": 62,
   "id": "7e8b80d8",
   "metadata": {},
   "outputs": [
    {
     "data": {
      "text/html": [
       "<pre>\n",
       "+=========== RESULT ==========+\n",
       "  iteration: 400\n",
       "    minimum: 1.39274e-18\n",
       "  minimizer: [-5.324595120305899e-9, -5.993296304901416e-9]\n",
       "    f calls: 19902\n",
       " total time: 0.0130 s\n",
       "stop reason: Maximum number of iterations exceeded.\n",
       "+============================+\n",
       "</pre>\n"
      ],
      "text/plain": [
       "+=========== RESULT ==========+\n",
       "  iteration: 400\n",
       "    minimum: 1.39274e-18\n",
       "  minimizer: [-5.324595120305899e-9, -5.993296304901416e-9]\n",
       "    f calls: 19902\n",
       " total time: 0.0130 s\n",
       "stop reason: Maximum number of iterations exceeded.\n",
       "+============================+\n"
      ]
     },
     "execution_count": 62,
     "metadata": {},
     "output_type": "execute_result"
    }
   ],
   "source": [
    "# Optimize matyas2 function = 2 Dimensions; bounds -10 to 10\n",
    "\n",
    "optimize(matyas2, [-10 -10 ; 10 10.0], SA(N = 50, x_initial = []))"
   ]
  },
  {
   "cell_type": "code",
   "execution_count": 65,
   "id": "4fbac57f",
   "metadata": {
    "scrolled": true
   },
   "outputs": [
    {
     "data": {
      "text/html": [
       "<pre>\n",
       "+=========== RESULT ==========+\n",
       "  iteration: 400\n",
       "    minimum: 9.04632e-78\n",
       "  minimizer: [-7.841355440053871e-41, -3.007198939509817e-39]\n",
       "    f calls: 19902\n",
       " total time: 0.0130 s\n",
       "stop reason: Maximum number of iterations exceeded.\n",
       "+============================+\n",
       "</pre>\n"
      ],
      "text/plain": [
       "+=========== RESULT ==========+\n",
       "  iteration: 400\n",
       "    minimum: 9.04632e-78\n",
       "  minimizer: [-7.841355440053871e-41, -3.007198939509817e-39]\n",
       "    f calls: 19902\n",
       " total time: 0.0130 s\n",
       "stop reason: Maximum number of iterations exceeded.\n",
       "+============================+\n"
      ]
     },
     "execution_count": 65,
     "metadata": {},
     "output_type": "execute_result"
    }
   ],
   "source": [
    "# Optimize zirilli2 function = 2 Dimensions; bounds -10 to 10\n",
    "\n",
    "optimize(zirilli2, [-500 -500; 500 500.0], SA(N = 50, x_initial = []))"
   ]
  },
  {
   "cell_type": "markdown",
   "id": "38a1bb76",
   "metadata": {},
   "source": [
    "#  DIFFERENTIAL EVOLUTION OPTIMIZATION"
   ]
  },
  {
   "cell_type": "code",
   "execution_count": null,
   "id": "ce6c96af",
   "metadata": {},
   "outputs": [],
   "source": []
  },
  {
   "cell_type": "code",
   "execution_count": null,
   "id": "84e10fb7",
   "metadata": {},
   "outputs": [],
   "source": []
  },
  {
   "cell_type": "code",
   "execution_count": null,
   "id": "aa58e123",
   "metadata": {},
   "outputs": [],
   "source": []
  },
  {
   "cell_type": "code",
   "execution_count": null,
   "id": "93977fcd",
   "metadata": {},
   "outputs": [],
   "source": []
  },
  {
   "cell_type": "code",
   "execution_count": null,
   "id": "fd9f1a0c",
   "metadata": {},
   "outputs": [],
   "source": []
  },
  {
   "cell_type": "code",
   "execution_count": null,
   "id": "40571352",
   "metadata": {},
   "outputs": [],
   "source": []
  },
  {
   "cell_type": "code",
   "execution_count": null,
   "id": "f65f49b1",
   "metadata": {},
   "outputs": [],
   "source": []
  }
 ],
 "metadata": {
  "@webio": {
   "lastCommId": null,
   "lastKernelId": null
  },
  "kernelspec": {
   "display_name": "Julia 1.8.0",
   "language": "julia",
   "name": "julia-1.8"
  },
  "language_info": {
   "file_extension": ".jl",
   "mimetype": "application/julia",
   "name": "julia",
   "version": "1.8.0"
  }
 },
 "nbformat": 4,
 "nbformat_minor": 5
}
